{
    "cells": [
        {
            "cell_type": "markdown",
            "metadata": {},
            "source": "Description"
        },
        {
            "cell_type": "code",
            "execution_count": 5,
            "metadata": {},
            "outputs": [],
            "source": "# The code was removed by Watson Studio for sharing."
        },
        {
            "cell_type": "code",
            "execution_count": null,
            "metadata": {},
            "outputs": [],
            "source": ""
        },
        {
            "cell_type": "code",
            "execution_count": 6,
            "metadata": {},
            "outputs": [
                {
                    "data": {
                        "text/html": "<div>\n<style scoped>\n    .dataframe tbody tr th:only-of-type {\n        vertical-align: middle;\n    }\n\n    .dataframe tbody tr th {\n        vertical-align: top;\n    }\n\n    .dataframe thead th {\n        text-align: right;\n    }\n</style>\n<table border=\"1\" class=\"dataframe\">\n  <thead>\n    <tr style=\"text-align: right;\">\n      <th></th>\n      <th>id</th>\n      <th>first_name</th>\n      <th>last_name</th>\n      <th>email</th>\n      <th>gender</th>\n    </tr>\n  </thead>\n  <tbody>\n    <tr>\n      <th>0</th>\n      <td>1</td>\n      <td>David</td>\n      <td>Jordan</td>\n      <td>djordan0@home.pl</td>\n      <td>Male</td>\n    </tr>\n    <tr>\n      <th>1</th>\n      <td>2</td>\n      <td>Stephen</td>\n      <td>Riley</td>\n      <td>sriley1@hugedomains.com</td>\n      <td>Male</td>\n    </tr>\n    <tr>\n      <th>2</th>\n      <td>3</td>\n      <td>Evelyn</td>\n      <td>Grant</td>\n      <td>egrant2@livejournal.com</td>\n      <td>Female</td>\n    </tr>\n    <tr>\n      <th>3</th>\n      <td>4</td>\n      <td>Joe</td>\n      <td>Mendoza</td>\n      <td>jmendoza3@un.org</td>\n      <td>Male</td>\n    </tr>\n    <tr>\n      <th>4</th>\n      <td>5</td>\n      <td>Benjamin</td>\n      <td>Rodriguez</td>\n      <td>brodriguez4@elpais.com</td>\n      <td>Male</td>\n    </tr>\n  </tbody>\n</table>\n</div>",
                        "text/plain": "   id first_name  last_name                    email  gender\n0   1      David     Jordan         djordan0@home.pl    Male\n1   2    Stephen      Riley  sriley1@hugedomains.com    Male\n2   3     Evelyn      Grant  egrant2@livejournal.com  Female\n3   4        Joe    Mendoza         jmendoza3@un.org    Male\n4   5   Benjamin  Rodriguez   brodriguez4@elpais.com    Male"
                    },
                    "execution_count": 6,
                    "metadata": {},
                    "output_type": "execute_result"
                }
            ],
            "source": "df_data_1 = pd.read_csv(body)\ndf_data_1.head()"
        },
        {
            "cell_type": "code",
            "execution_count": 2,
            "metadata": {},
            "outputs": [],
            "source": "df = df_data_1"
        },
        {
            "cell_type": "code",
            "execution_count": 3,
            "metadata": {},
            "outputs": [
                {
                    "data": {
                        "text/html": "<div>\n<style scoped>\n    .dataframe tbody tr th:only-of-type {\n        vertical-align: middle;\n    }\n\n    .dataframe tbody tr th {\n        vertical-align: top;\n    }\n\n    .dataframe thead th {\n        text-align: right;\n    }\n</style>\n<table border=\"1\" class=\"dataframe\">\n  <thead>\n    <tr style=\"text-align: right;\">\n      <th></th>\n      <th>id</th>\n      <th>first_name</th>\n      <th>last_name</th>\n      <th>email</th>\n      <th>gender</th>\n    </tr>\n  </thead>\n  <tbody>\n    <tr>\n      <th>95</th>\n      <td>96</td>\n      <td>Adam</td>\n      <td>Banks</td>\n      <td>abanks2n@scientificamerican.com</td>\n      <td>Male</td>\n    </tr>\n    <tr>\n      <th>96</th>\n      <td>97</td>\n      <td>Antonio</td>\n      <td>Franklin</td>\n      <td>afranklin2o@loc.gov</td>\n      <td>Male</td>\n    </tr>\n    <tr>\n      <th>97</th>\n      <td>98</td>\n      <td>Joe</td>\n      <td>Allen</td>\n      <td>jallen2p@quantcast.com</td>\n      <td>Male</td>\n    </tr>\n    <tr>\n      <th>98</th>\n      <td>99</td>\n      <td>Rebecca</td>\n      <td>Russell</td>\n      <td>rrussell2q@wordpress.com</td>\n      <td>Female</td>\n    </tr>\n    <tr>\n      <th>99</th>\n      <td>100</td>\n      <td>Kathy</td>\n      <td>Sanchez</td>\n      <td>ksanchez2r@ebay.co.uk</td>\n      <td>Female</td>\n    </tr>\n  </tbody>\n</table>\n</div>",
                        "text/plain": "     id first_name last_name                            email  gender\n95   96       Adam     Banks  abanks2n@scientificamerican.com    Male\n96   97    Antonio  Franklin              afranklin2o@loc.gov    Male\n97   98        Joe     Allen           jallen2p@quantcast.com    Male\n98   99    Rebecca   Russell         rrussell2q@wordpress.com  Female\n99  100      Kathy   Sanchez            ksanchez2r@ebay.co.uk  Female"
                    },
                    "execution_count": 3,
                    "metadata": {},
                    "output_type": "execute_result"
                }
            ],
            "source": "df.tail()"
        },
        {
            "cell_type": "code",
            "execution_count": null,
            "metadata": {},
            "outputs": [],
            "source": ""
        }
    ],
    "metadata": {
        "kernelspec": {
            "display_name": "Python 3.6",
            "language": "python",
            "name": "python3"
        },
        "language_info": {
            "codemirror_mode": {
                "name": "ipython",
                "version": 3
            },
            "file_extension": ".py",
            "mimetype": "text/x-python",
            "name": "python",
            "nbconvert_exporter": "python",
            "pygments_lexer": "ipython3",
            "version": "3.6.9"
        }
    },
    "nbformat": 4,
    "nbformat_minor": 1
}